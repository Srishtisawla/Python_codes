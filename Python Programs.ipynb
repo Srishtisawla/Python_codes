{
 "cells": [
  {
   "cell_type": "code",
   "execution_count": 1,
   "metadata": {},
   "outputs": [
    {
     "name": "stdout",
     "output_type": "stream",
     "text": [
      "Hello World!\n"
     ]
    }
   ],
   "source": [
    "#Program 1:print hello World!\n",
    "print(\"Hello World!\")"
   ]
  },
  {
   "cell_type": "code",
   "execution_count": 2,
   "metadata": {},
   "outputs": [
    {
     "name": "stdout",
     "output_type": "stream",
     "text": [
      "5\n",
      "Sum of 4 and 5 is 9\n"
     ]
    }
   ],
   "source": [
    "#Program 2:Add two Numbers\n",
    "print(2+3) #method1 {avoid this unless specified,use proper indentations wherever required}\n",
    "num1 = 4\n",
    "num2 = 5\n",
    "print(\"Sum of {0} and {1} is {2}\".format(num1,num2,num1+num2)) # Method 2"
   ]
  },
  {
   "cell_type": "code",
   "execution_count": 3,
   "metadata": {},
   "outputs": [
    {
     "name": "stdout",
     "output_type": "stream",
     "text": [
      "Enter first number1\n",
      "Enter second number2\n",
      "Method 1\n",
      "Sum of 1 and 2 is 3\n",
      "Method 2\n",
      "Enter first number3\n",
      "Enter second number4\n",
      "Sum is 7\n"
     ]
    }
   ],
   "source": [
    "#Program 3:Add two numbers provided by user\n",
    "num1=int(input(\"Enter first number\")) #User input is string,convert it into int/float\n",
    "num2=int(input(\"Enter second number\"))\n",
    "print(\"Method 1\")\n",
    "print(\"Sum of {0} and {1} is {2}\".format(num1,num2,num1+num2)) # Method 1\n",
    "print(\"Method 2\")\n",
    "print(\"Sum is {0}\".format(int(input(\"Enter first number\"))+int(input(\"Enter second number\"))))#Method 2"
   ]
  },
  {
   "cell_type": "code",
   "execution_count": 4,
   "metadata": {},
   "outputs": [
    {
     "name": "stdout",
     "output_type": "stream",
     "text": [
      "Enter a number :3\n",
      "Squareroot of 3 is 1.7320508075688772\n"
     ]
    }
   ],
   "source": [
    "#Program 4: Find square root of a number\n",
    "num1 = int(input(\"Enter a number :\"))\n",
    "squareroot = num1**0.5\n",
    "print(\"Squareroot of {0} is {1}\".format(num1,squareroot))"
   ]
  },
  {
   "cell_type": "code",
   "execution_count": 5,
   "metadata": {},
   "outputs": [
    {
     "name": "stdout",
     "output_type": "stream",
     "text": [
      "Enter a number4\n",
      "Squareroot of 4 is 2.000+0.000j\n"
     ]
    }
   ],
   "source": [
    "#Program 5: Find square root of a complex number\n",
    "import cmath\n",
    "complex_num = eval(input(\"Enter a number\"))\n",
    "squareroot = cmath.sqrt(complex_num)\n",
    "print(\"Squareroot of {0} is {1:0.3f}+{2:0.3f}j\".format(complex_num,squareroot.real,squareroot.imag)) "
   ]
  },
  {
   "cell_type": "code",
   "execution_count": 6,
   "metadata": {},
   "outputs": [
    {
     "name": "stdout",
     "output_type": "stream",
     "text": [
      "Enter first side of a Triange : 4\n",
      "Enter second side of Triange : 3\n",
      "Enter third side of a Triange : 4\n",
      "Area of Triangle is 5.562\n"
     ]
    }
   ],
   "source": [
    "#Program 6 : Calculate Area of Triangle\n",
    "#If a, b and c are three sides of a triangle. Then,\n",
    "#s = (a+b+c)/2\n",
    "#area = √(s(s-a)*(s-b)*(s-c))\n",
    "\n",
    "side1,side2,side3 = float(input(\"Enter first side of a Triange : \")),float(input(\"Enter second side of Triange : \")),float(input(\"Enter third side of a Triange : \"))\n",
    "s=(side1+side2+side3)/2\n",
    "area = (s*((s-side1)*(s-side2)*(s-side3)))**0.5\n",
    "print(\"Area of Triangle is {0:.3f}\".format(area))"
   ]
  },
  {
   "cell_type": "code",
   "execution_count": 7,
   "metadata": {},
   "outputs": [
    {
     "name": "stdout",
     "output_type": "stream",
     "text": [
      "Enter a 2\n",
      "Enter b 2\n",
      "Enter c 2\n",
      "The solution are (-0.5-0.8660254037844386j) and (-0.5+0.8660254037844386j)\n"
     ]
    }
   ],
   "source": [
    "#Program 7 : Solve Quadratic Equation\n",
    "# The standard form of a quadratic equation is:\n",
    "# ax2 + bx + c = 0, where\n",
    "# a, b and c are real numbers and\n",
    "# a ≠ 0\n",
    "import cmath\n",
    "a,b,c = float(input(\"Enter a \")),float(input(\"Enter b \")),float(input(\"Enter c \"))\n",
    "d=(b**2)-(4*a*c)\n",
    "sol1 = (-b-cmath.sqrt(d))/(2*a)\n",
    "sol2 = (-b+cmath.sqrt(d))/(2*a)\n",
    "print('The solution are {0} and {1}'.format(sol1,sol2))"
   ]
  },
  {
   "cell_type": "code",
   "execution_count": 8,
   "metadata": {},
   "outputs": [
    {
     "name": "stdout",
     "output_type": "stream",
     "text": [
      "Enter a: 4\n",
      "Enter b: 3\n",
      "You entered 4 and 3\n",
      "swapped numbers are 3 and 4\n"
     ]
    }
   ],
   "source": [
    "# Program 8 : Swap two numbers \n",
    "a,b = int(input(\"Enter a: \")),int(input(\"Enter b: \"))\n",
    "print (\"You entered {0} and {1}\".format(a,b))\n",
    "a,b=b,a\n",
    "print (\"swapped numbers are {0} and {1}\".format(a,b))"
   ]
  },
  {
   "cell_type": "code",
   "execution_count": 9,
   "metadata": {},
   "outputs": [
    {
     "name": "stdout",
     "output_type": "stream",
     "text": [
      "6\n",
      "1\n",
      "0\n",
      "5\n",
      "9\n",
      "7\n",
      "2\n",
      "4\n",
      "1\n",
      "0\n"
     ]
    }
   ],
   "source": [
    "# Program 9 : Generate Random Numbers\n",
    "import random\n",
    "for i in range(0,10):\n",
    "    print(random.randint(0,10))"
   ]
  },
  {
   "cell_type": "code",
   "execution_count": 10,
   "metadata": {
    "scrolled": true
   },
   "outputs": [
    {
     "name": "stdout",
     "output_type": "stream",
     "text": [
      "Enter value in kilometers34\n",
      "34.000 kilometers is equal to 21.127 miles\n"
     ]
    }
   ],
   "source": [
    "# Program 10 : Convert Kilometers to Miles\n",
    "kilometers = float(input(\"Enter value in kilometers\"))\n",
    "conv_fac = 0.621371\n",
    "miles = kilometers * conv_fac\n",
    "print('%0.3f kilometers is equal to %0.3f miles' %(kilometers,miles))"
   ]
  },
  {
   "cell_type": "code",
   "execution_count": 15,
   "metadata": {},
   "outputs": [
    {
     "name": "stdout",
     "output_type": "stream",
     "text": [
      "2002,2009,2016,2023,2037,2044,2051,2058,2072,2079,2086,2093,2107,2114,2121,2128,2142,2149,2156,2163,2177,2184,2191,2198,2212,2219,2226,2233,2247,2254,2261,2268,2282,2289,2296,2303,2317,2324,2331,2338,2352,2359,2366,2373,2387,2394,2401,2408,2422,2429,2436,2443,2457,2464,2471,2478,2492,2499,2506,2513,2527,2534,2541,2548,2562,2569,2576,2583,2597,2604,2611,2618,2632,2639,2646,2653,2667,2674,2681,2688,2702,2709,2716,2723,2737,2744,2751,2758,2772,2779,2786,2793,2807,2814,2821,2828,2842,2849,2856,2863,2877,2884,2891,2898,2912,2919,2926,2933,2947,2954,2961,2968,2982,2989,2996,3003,3017,3024,3031,3038,3052,3059,3066,3073,3087,3094,3101,3108,3122,3129,3136,3143,3157,3164,3171,3178,3192,3199\n"
     ]
    }
   ],
   "source": [
    "# Program 11 :find all such numbers which are divisible by 7 but are not a multiple of 5,\n",
    "# between 2000 and 3200 (both included).\n",
    "# The numbers obtained should be printed in a comma-separated sequence on a single line.\n",
    "\n",
    "list1 = []\n",
    "for i in range(2000,3201):\n",
    "    if((i%7==0) and (i%5!=0)): #since numbers are to be printed in comma sep sequence\n",
    "        list1.append(str(i))\n",
    "print(','.join(list1)) # to join using commas"
   ]
  },
  {
   "cell_type": "code",
   "execution_count": 21,
   "metadata": {},
   "outputs": [
    {
     "name": "stdout",
     "output_type": "stream",
     "text": [
      "Enter a number :4\n",
      "factorial of 4 is 24\n",
      "Enter a number :4\n",
      "24\n"
     ]
    }
   ],
   "source": [
    "# Program 12 : compute the factorial of a given number\n",
    "num = int(input(\"Enter a number :\"))\n",
    "num1=num\n",
    "factorial = 1\n",
    "\n",
    "while num>0:\n",
    "    factorial*=num\n",
    "    num=num-1\n",
    "    \n",
    "print(\"factorial of {0} is {1}\".format(num1,factorial)) #method1\n",
    "\n",
    "def fact(x):\n",
    "    if x==0:\n",
    "        return 1\n",
    "    return x*fact(x-1)\n",
    "\n",
    "num = int(input(\"Enter a number :\"))\n",
    "print(fact(num)) #method2"
   ]
  },
  {
   "cell_type": "code",
   "execution_count": 23,
   "metadata": {},
   "outputs": [
    {
     "name": "stdout",
     "output_type": "stream",
     "text": [
      "Enter a number :5\n",
      "{1: 1, 2: 4, 3: 9, 4: 16, 5: 25}\n"
     ]
    }
   ],
   "source": [
    "# Program 13 : With a given integral number n, write a program to generate a dictionary that contains \n",
    "# (i, i*i) such that is an integral number between 1 and n (both included)\n",
    "# and then the program should print the dictionary.\n",
    "\n",
    "num = int(input(\"Enter a number :\"))\n",
    "dict1 = {}\n",
    "for i in range(1,num+1):\n",
    "    dict1[i]=i*i\n",
    "print(dict1)"
   ]
  },
  {
   "cell_type": "code",
   "execution_count": 6,
   "metadata": {},
   "outputs": [
    {
     "name": "stdout",
     "output_type": "stream",
     "text": [
      "Enter values :1,2,3,4,5,6,7\n",
      "['1', '2', '3', '4', '5', '6', '7']\n",
      "('1', '2', '3', '4', '5', '6', '7')\n"
     ]
    }
   ],
   "source": [
    "# Program 14 :Write a program which accepts a sequence of comma-separated numbers from console \n",
    "#and generate a list and a tuple which contains every number.\n",
    "#Suppose the following input is supplied to the program:\n",
    "#34,67,55,33,12,98\n",
    "#Then, the output should be:\n",
    "#['34', '67', '55', '33', '12', '98']\n",
    "#('34', '67', '55', '33', '12', '98')\n",
    "\n",
    "ipt = input(\"Enter values :\")\n",
    "list1 = ipt.split(\",\")\n",
    "tuple1=tuple(list1)\n",
    "\n",
    "print(list1)\n",
    "print(tuple1)\n",
    "    "
   ]
  },
  {
   "cell_type": "code",
   "execution_count": 7,
   "metadata": {},
   "outputs": [
    {
     "name": "stdout",
     "output_type": "stream",
     "text": [
      "Enter String :Machines are Learning!! Are you?\n",
      "MACHINES ARE LEARNING!! ARE YOU?\n"
     ]
    }
   ],
   "source": [
    "# Program 15 : Define a class which has at least two methods:\n",
    "# getString: to get a string from console input\n",
    "# printString: to print the string in upper case.\n",
    "# Also please include simple test function to test the class methods.\n",
    "\n",
    "class Str(object):\n",
    "    def __init__(self):\n",
    "        self.s=\"\"\n",
    "    def getString(self):\n",
    "        self.s=input(\"Enter String :\")\n",
    "    def printString(self):\n",
    "        print(self.s.upper())\n",
    "StrObj = Str()\n",
    "StrObj.getString()\n",
    "StrObj.printString()"
   ]
  },
  {
   "cell_type": "code",
   "execution_count": null,
   "metadata": {
    "collapsed": true
   },
   "outputs": [],
   "source": [
    "# Program 16 : Write a program that calculates and prints \n",
    "#the value according to the given formula:\n",
    "#Q = Square root of [(2 * C * D)/H]\n",
    "#Following are the fixed values of C and H:\n",
    "#C is 50. H is 30.\n",
    "#D is the variable whose values should be input to your program in a comma-separated sequence.\n",
    "#Example\n",
    "#Let us assume the following comma separated input sequence is given to the program:\n",
    "#100,150,180\n",
    "#The output of the program should be:\n",
    "#18,22,24\n",
    "\n",
    "#Hints:\n",
    "#If the output received is in decimal form, it should be rounded off \n",
    "#to its nearest value (for example, if the output received is 26.0, \n",
    "#it should be printed as 26)\n",
    "#In case of input data being supplied to the question, \n",
    "#it should be assumed to be a console input. "
   ]
  },
  {
   "cell_type": "code",
   "execution_count": 11,
   "metadata": {},
   "outputs": [
    {
     "name": "stdout",
     "output_type": "stream",
     "text": [
      "Enter numbers :100,101,102\n",
      "['100', '101', '102']\n",
      "[18, 18, 18]\n"
     ]
    }
   ],
   "source": [
    "def Q(list1):\n",
    "    list2=[]\n",
    "    for value in list1:\n",
    "        list2.append(int(round(((2*50*int(value))/30)**0.5)))\n",
    "    return list2\n",
    "\n",
    "num = input(\"Enter numbers :\")\n",
    "list1 = num.split(\",\")\n",
    "\n",
    "print(list1)\n",
    "print(Q(list1))\n",
    "        "
   ]
  },
  {
   "cell_type": "code",
   "execution_count": 16,
   "metadata": {},
   "outputs": [
    {
     "name": "stdout",
     "output_type": "stream",
     "text": [
      "Enter String :Hey You are doing Great in Python\n",
      "You Entered : Hey You are doing Great in Python\n",
      "Reversed String : Python in Great doing are You Hey\n"
     ]
    }
   ],
   "source": [
    "# Program 17 : Write a program (using functions!) that asks the user for a \n",
    "#long string containing multiple words. Print back to the user the same string, \n",
    "#except with the words in backwards order. For example, say I type the string:\n",
    "\n",
    "#My name is Michele\n",
    "#Then I would see the string:\n",
    "\n",
    "#Michele is name My\n",
    "#shown back to me.\n",
    "\n",
    "string = input(\"Enter String :\")\n",
    "print(\"You Entered :\",string)\n",
    "words = string.split(\" \")\n",
    "print(\"Reversed String :\",\" \".join(words[::-1]))    "
   ]
  },
  {
   "cell_type": "code",
   "execution_count": 18,
   "metadata": {},
   "outputs": [
    {
     "name": "stdout",
     "output_type": "stream",
     "text": [
      "Top 10 passwords are :\n",
      "\n",
      "1*C)0G2z\n",
      "CVq!aw00\n",
      "3n9SC@F%\n",
      "grmC?MGZ\n",
      "H53@0LF^\n",
      "?Xt%1D)E\n",
      "BoHk&XFZ\n",
      "iRSrz()c\n",
      "hUfT5Ij&\n",
      "?jd3DcRa\n"
     ]
    }
   ],
   "source": [
    "# Python 18 : # generate a password with length \"passlen\" with no \n",
    "#duplicate characters in the password\n",
    "import random\n",
    "s = \"abcdefghijklmnopqrstuvwxyz01234567890ABCDEFGHIJKLMNOPQRSTUVWXYZ!@#$%^&*()?\"\n",
    "passlen = 8\n",
    "print(\"Top 10 passwords are :\\n\")\n",
    "for i in range(0,10):\n",
    "    p =  \"\".join(random.sample(s,passlen))\n",
    "    print(p)"
   ]
  },
  {
   "cell_type": "code",
   "execution_count": 30,
   "metadata": {},
   "outputs": [
    {
     "name": "stderr",
     "output_type": "stream",
     "text": [
      "/usr/lib/python3/dist-packages/bs4/__init__.py:166: UserWarning: No parser was explicitly specified, so I'm using the best available HTML parser for this system (\"lxml\"). This usually isn't a problem, but if you run this code on another system, or in a different virtual environment, it may use a different parser and behave differently.\n",
      "\n",
      "To get rid of this warning, change this:\n",
      "\n",
      " BeautifulSoup([your markup])\n",
      "\n",
      "to this:\n",
      "\n",
      " BeautifulSoup([your markup], \"lxml\")\n",
      "\n",
      "  markup_type=markup_type))\n"
     ]
    }
   ],
   "source": [
    "# Program 19 : Program to decode a webpage\n",
    "import requests\n",
    "from bs4 import BeautifulSoup\n",
    "\n",
    "base_url = \"https://timesofindia.indiatimes.com/\"\n",
    "r = requests.get(base_url)\n",
    "soup = BeautifulSoup(r.text)"
   ]
  },
  {
   "cell_type": "code",
   "execution_count": 29,
   "metadata": {},
   "outputs": [
    {
     "name": "stdout",
     "output_type": "stream",
     "text": [
      "\n",
      "'Sanju' box-office collections Day 16\n",
      "Naagin 3: Vish transforms into Rehaan\n",
      "'Lover': Theatrical trailer of Raj Tarun starrer out\n",
      "\n",
      "\n",
      "World Cup: French Four Two good for Croatian courage\n",
      "Some MBBS students got 0 or less in NEET papers\n",
      "\n",
      "\n",
      "\n",
      "\n",
      "\n",
      "\n",
      "21 amazing things to do in Cambodia\n",
      "\n",
      "Wholesale inflation rises to 5.77% in June on costlier vegetables, fuel\n",
      "\n",
      "\n",
      "Mike Hesson to step down as New Zealand coach\n",
      "\n",
      "\n",
      "\n",
      "\n",
      "\n",
      "\n",
      "Testosterone treatment a new hope for cancer patients\n",
      "\n",
      "\n",
      "\n",
      "\n",
      "\n",
      "\n"
     ]
    }
   ],
   "source": [
    "for stories in soup.find_all(class_='main-story'):\n",
    "    if stories.a:\n",
    "        print(stories.a.text.replace(\"\\n\", \" \").strip())\n",
    "    else: \n",
    "        pass"
   ]
  },
  {
   "cell_type": "code",
   "execution_count": 3,
   "metadata": {},
   "outputs": [
    {
     "name": "stdout",
     "output_type": "stream",
     "text": [
      "Your health after health_potion is :  99\n",
      "Your health after health_potion is :  86\n",
      "Your health after health_potion is :  80\n",
      "Your health after health_potion is :  82\n",
      "Your health after health_potion is :  85\n"
     ]
    }
   ],
   "source": [
    "# Program 20 : Make a magic health potion \n",
    "# for a video game which adds improves your health in the game\n",
    "import random\n",
    "#lets assume average health\n",
    "for i in range(0,5):\n",
    "    health = 50\n",
    "    potion_health=random.randint(25,50)\n",
    "    health+=potion_health\n",
    "    print(\"Your health after health_potion is : \",health)"
   ]
  },
  {
   "cell_type": "code",
   "execution_count": 5,
   "metadata": {},
   "outputs": [
    {
     "name": "stdout",
     "output_type": "stream",
     "text": [
      "Enter you Name : Srishti Sawla\n",
      "How old are you? : 25\n",
      "Where do you live? : Mumbai,India\n",
      "Enter you fav hobby : Dancing.\n",
      "Hi Srishti Sawla.Your age is 25.You live in Mumbai,India.Your Fav hobby is Dancing..\n"
     ]
    }
   ],
   "source": [
    "#Program 21 : Take inputs from user to print a basic summary of User\n",
    "name=input(\"Enter you Name : \")\n",
    "age=input(\"How old are you? : \")\n",
    "city=input(\"Where do you live? : \")\n",
    "hobby=input(\"Enter you fav hobby : \")\n",
    "string=\"Hi {}.Your age is {}.You live in {}.Your Fav hobby is {}.\"\n",
    "output=string.format(name,age,city,hobby)\n",
    "\n",
    "print(output)"
   ]
  },
  {
   "cell_type": "code",
   "execution_count": 6,
   "metadata": {},
   "outputs": [
    {
     "name": "stdout",
     "output_type": "stream",
     "text": [
      "Dear User,Enter your email address : srishtisawla@outlook.com\n",
      "Dear User your userid is srishtisawla and domain is outlook.com\n"
     ]
    }
   ],
   "source": [
    "#Program 22 : Write a program to extract information from a user's email Id\n",
    "email=input(\"Dear User,Enter your email address : \").strip() #removes leading and trailing blanks\n",
    "user=email[:email.index(\"@\")]\n",
    "domain=email[email.index(\"@\")+1:]\n",
    "\n",
    "print(\"Dear User your userid is {} and domain is {}\".format(user,domain))"
   ]
  },
  {
   "cell_type": "code",
   "execution_count": 15,
   "metadata": {},
   "outputs": [
    {
     "name": "stdout",
     "output_type": "stream",
     "text": [
      "Hi this is Travis\n",
      "May I know your name? : alice\n",
      "Hello  alice\n",
      "Do you want to remove your name from the records(Y/N): y\n"
     ]
    }
   ],
   "source": [
    "#Program 23 : Make a basic security system named as Travis which asks a user his name.\n",
    "#If name exists in its records,asks the user if he wants to remove his name from its record\n",
    "#If name doesnt exist in its records asks the user \n",
    "#if he wants to add his name in its records\n",
    "\n",
    "known_Users=[\"alice\",\"benedict\",\"charles\",\"david\"]\n",
    "name=input(\"Hi this is Travis\\nMay I know your name? : \").strip().lower()\n",
    "if name in known_Users:\n",
    "    print(\"Hello \",name)\n",
    "    remove=input(\"Do you want to remove your name from the records(Y/N): \").strip().lower()\n",
    "    if remove=='y':\n",
    "        known_Users.remove(name)\n",
    "    else:\n",
    "        print(\"I am happy that you dont want to leave us!!\")\n",
    "else:\n",
    "    print(\"Hey I dont think we have met {}.Hi I am Travis\".format(name))\n",
    "    add=input(\"Would you like to be added in my System(Y/N) : \").strip().lower()\n",
    "    if add=='y':\n",
    "        known_Users.append(name)\n",
    "    else:\n",
    "        print(\"No worries!Thanks for coming!\")"
   ]
  }
 ],
 "metadata": {
  "kernelspec": {
   "display_name": "Python 3",
   "language": "python",
   "name": "python3"
  },
  "language_info": {
   "codemirror_mode": {
    "name": "ipython",
    "version": 3
   },
   "file_extension": ".py",
   "mimetype": "text/x-python",
   "name": "python",
   "nbconvert_exporter": "python",
   "pygments_lexer": "ipython3",
   "version": "3.5.2"
  }
 },
 "nbformat": 4,
 "nbformat_minor": 2
}

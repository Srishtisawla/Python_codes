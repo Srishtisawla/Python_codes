{
 "cells": [
  {
   "cell_type": "markdown",
   "metadata": {},
   "source": [
    "# Introduction"
   ]
  },
  {
   "cell_type": "code",
   "execution_count": 1,
   "metadata": {},
   "outputs": [
    {
     "name": "stdout",
     "output_type": "stream",
     "text": [
      "Hello World!\n"
     ]
    }
   ],
   "source": [
    "#Program 1:print hello World!\n",
    "print(\"Hello World!\")"
   ]
  },
  {
   "cell_type": "code",
   "execution_count": 2,
   "metadata": {},
   "outputs": [
    {
     "name": "stdout",
     "output_type": "stream",
     "text": [
      "5\n",
      "Sum of 4 and 5 is 9\n"
     ]
    }
   ],
   "source": [
    "#Program 2:Add two Numbers\n",
    "print(2+3) #method1 {avoid this unless specified,use proper indentations wherever required}\n",
    "num1 = 4\n",
    "num2 = 5\n",
    "print(\"Sum of {0} and {1} is {2}\".format(num1,num2,num1+num2)) # Method 2"
   ]
  },
  {
   "cell_type": "code",
   "execution_count": 9,
   "metadata": {},
   "outputs": [
    {
     "name": "stdout",
     "output_type": "stream",
     "text": [
      "Enter first number2\n",
      "Enter second number3\n",
      "Method 1\n",
      "Sum of 2 and 3 is 5\n",
      "Method 2\n",
      "Enter first number2\n",
      "Enter second number3\n",
      "Sum is 5\n"
     ]
    }
   ],
   "source": [
    "#Program 3:Add two numbers provided by user\n",
    "num1=int(input(\"Enter first number\")) #User input is string,convert it into int/float\n",
    "num2=int(input(\"Enter second number\"))\n",
    "print(\"Method 1\")\n",
    "print(\"Sum of {0} and {1} is {2}\".format(num1,num2,num1+num2)) # Method 1\n",
    "print(\"Method 2\")\n",
    "print(\"Sum is {0}\".format(int(input(\"Enter first number\"))+int(input(\"Enter second number\"))))#Method 2"
   ]
  },
  {
   "cell_type": "code",
   "execution_count": 10,
   "metadata": {},
   "outputs": [
    {
     "name": "stdout",
     "output_type": "stream",
     "text": [
      "Enter a number :25\n",
      "Squareroot of 25 is 5.0\n"
     ]
    }
   ],
   "source": [
    "#Program 4: Find square root of a number\n",
    "num1 = int(input(\"Enter a number :\"))\n",
    "squareroot = num1**0.5\n",
    "print(\"Squareroot of {0} is {1}\".format(num1,squareroot))"
   ]
  },
  {
   "cell_type": "code",
   "execution_count": 13,
   "metadata": {},
   "outputs": [
    {
     "name": "stdout",
     "output_type": "stream",
     "text": [
      "Enter a number2+3j\n",
      "Squareroot of (2+3j) is 1.674+0.896j\n"
     ]
    }
   ],
   "source": [
    "#Program 5: Find square root of a complex number\n",
    "import cmath\n",
    "complex_num = eval(input(\"Enter a number\"))\n",
    "squareroot = cmath.sqrt(complex_num)\n",
    "print(\"Squareroot of {0} is {1:0.3f}+{2:0.3f}j\".format(complex_num,squareroot.real,squareroot.imag)) "
   ]
  },
  {
   "cell_type": "code",
   "execution_count": 18,
   "metadata": {},
   "outputs": [
    {
     "name": "stdout",
     "output_type": "stream",
     "text": [
      "Enter first side of a Triange : 2\n",
      "Enter second side of Triange : 3\n",
      "Enter third side of a Triange : 4\n",
      "Area of Triangle is 2.905\n"
     ]
    }
   ],
   "source": [
    "#Program 6 : Calculate Area of Triangle\n",
    "#If a, b and c are three sides of a triangle. Then,\n",
    "#s = (a+b+c)/2\n",
    "#area = √(s(s-a)*(s-b)*(s-c))\n",
    "\n",
    "side1,side2,side3 = float(input(\"Enter first side of a Triange : \")),float(input(\"Enter second side of Triange : \")),float(input(\"Enter third side of a Triange : \"))\n",
    "s=(side1+side2+side3)/2\n",
    "area = (s*((s-side1)*(s-side2)*(s-side3)))**0.5\n",
    "print(\"Area of Triangle is {0:.3f}\".format(area))"
   ]
  },
  {
   "cell_type": "code",
   "execution_count": 22,
   "metadata": {},
   "outputs": [
    {
     "name": "stdout",
     "output_type": "stream",
     "text": [
      "Enter a 2\n",
      "Enter b 3\n",
      "Enter c 4\n",
      "The solution are (-0.75-1.1989578808281798j) and (-0.75+1.1989578808281798j)\n"
     ]
    }
   ],
   "source": [
    "#Program 7 : Solve Quadratic Equation\n",
    "# The standard form of a quadratic equation is:\n",
    "# ax2 + bx + c = 0, where\n",
    "# a, b and c are real numbers and\n",
    "# a ≠ 0\n",
    "import cmath\n",
    "a,b,c = float(input(\"Enter a \")),float(input(\"Enter b \")),float(input(\"Enter c \"))\n",
    "d=(b**2)-(4*a*c)\n",
    "sol1 = (-b-cmath.sqrt(d))/(2*a)\n",
    "sol2 = (-b+cmath.sqrt(d))/(2*a)\n",
    "print('The solution are {0} and {1}'.format(sol1,sol2))"
   ]
  },
  {
   "cell_type": "code",
   "execution_count": 24,
   "metadata": {},
   "outputs": [
    {
     "name": "stdout",
     "output_type": "stream",
     "text": [
      "Enter a: 4\n",
      "Enter b: 5\n",
      "You entered 4 and 5\n",
      "swapped numbers are 5 and 4\n"
     ]
    }
   ],
   "source": [
    "# Program 8 : Swap two numbers \n",
    "a,b = int(input(\"Enter a: \")),int(input(\"Enter b: \"))\n",
    "print (\"You entered {0} and {1}\".format(a,b))\n",
    "a,b=b,a\n",
    "print (\"swapped numbers are {0} and {1}\".format(a,b))"
   ]
  },
  {
   "cell_type": "code",
   "execution_count": 29,
   "metadata": {},
   "outputs": [
    {
     "name": "stdout",
     "output_type": "stream",
     "text": [
      "9\n",
      "9\n",
      "1\n",
      "10\n",
      "3\n",
      "9\n",
      "10\n",
      "7\n",
      "8\n",
      "9\n"
     ]
    }
   ],
   "source": [
    "# Program 9 : Generate Random Numbers\n",
    "import random\n",
    "for i in range(0,10):\n",
    "    print(random.randint(0,10))"
   ]
  },
  {
   "cell_type": "code",
   "execution_count": 31,
   "metadata": {},
   "outputs": [
    {
     "name": "stdout",
     "output_type": "stream",
     "text": [
      "Enter value in kilometers45\n",
      "45.000 kilometers is equal to 27.962 miles\n"
     ]
    }
   ],
   "source": [
    "# Program 10 : Convert Kilometers to Miles\n",
    "kilometers = float(input(\"Enter value in kilometers\"))\n",
    "conv_fac = 0.621371\n",
    "miles = kilometers * conv_fac\n",
    "print('%0.3f kilometers is equal to %0.3f miles' %(kilometers,miles))"
   ]
  }
 ],
 "metadata": {
  "kernelspec": {
   "display_name": "Python 3",
   "language": "python",
   "name": "python3"
  },
  "language_info": {
   "codemirror_mode": {
    "name": "ipython",
    "version": 3
   },
   "file_extension": ".py",
   "mimetype": "text/x-python",
   "name": "python",
   "nbconvert_exporter": "python",
   "pygments_lexer": "ipython3",
   "version": "3.5.2"
  }
 },
 "nbformat": 4,
 "nbformat_minor": 2
}
